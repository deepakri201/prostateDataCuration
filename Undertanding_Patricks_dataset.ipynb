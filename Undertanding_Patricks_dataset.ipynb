{
  "nbformat": 4,
  "nbformat_minor": 0,
  "metadata": {
    "colab": {
      "provenance": [],
      "toc_visible": true,
      "authorship_tag": "ABX9TyNiUnJrsbFTMQfkBzyneLIK",
      "include_colab_link": true
    },
    "kernelspec": {
      "name": "python3",
      "display_name": "Python 3"
    },
    "language_info": {
      "name": "python"
    }
  },
  "cells": [
    {
      "cell_type": "markdown",
      "metadata": {
        "id": "view-in-github",
        "colab_type": "text"
      },
      "source": [
        "<a href=\"https://colab.research.google.com/github/deepakri201/prostateDataCuration/blob/main/Undertanding_Patricks_dataset.ipynb\" target=\"_parent\"><img src=\"https://colab.research.google.com/assets/colab-badge.svg\" alt=\"Open In Colab\"/></a>"
      ]
    },
    {
      "cell_type": "markdown",
      "source": [
        "Code to understand Patrick's dataset, and how many T2/DWI/ADC series are in each study. How to choose the best one for AI models for protate cancer segmentation?"
      ],
      "metadata": {
        "id": "PCV0XW_VI2Xe"
      }
    },
    {
      "cell_type": "markdown",
      "metadata": {
        "id": "_9kwcxEhbF46"
      },
      "source": [
        "# Parameterization"
      ]
    },
    {
      "cell_type": "code",
      "execution_count": 1,
      "metadata": {
        "colab": {
          "base_uri": "https://localhost:8080/"
        },
        "id": "PlykERX38ZjP",
        "outputId": "8a00e242-c328-45dd-8f81-f304ec5a8768"
      },
      "outputs": [
        {
          "output_type": "stream",
          "name": "stdout",
          "text": [
            "Updated property [core/project].\n"
          ]
        }
      ],
      "source": [
        "#@title Enter your Project ID here\n",
        "# initialize this variable with your Google Cloud Project ID!\n",
        "project_name = \"bwh-at-ncigt-data-m-1641244486\" #@param {type:\"string\"}\n",
        "\n",
        "import os\n",
        "os.environ[\"GCP_PROJECT_ID\"] = project_name\n",
        "\n",
        "!gcloud config set project $project_name\n",
        "\n",
        "from google.colab import auth\n",
        "auth.authenticate_user()"
      ]
    },
    {
      "cell_type": "markdown",
      "source": [
        "# Environment"
      ],
      "metadata": {
        "id": "Odj9r4FWJHPu"
      }
    },
    {
      "cell_type": "code",
      "source": [
        "import os\n",
        "import sys\n",
        "\n",
        "from google.cloud import bigquery\n",
        "from google.cloud import storage\n",
        "\n",
        "import seaborn as sns\n",
        "import pandas as pd\n",
        "import matplotlib.pyplot as plt\n",
        "import numpy as np"
      ],
      "metadata": {
        "id": "td4UTQt0JjFy"
      },
      "execution_count": 7,
      "outputs": []
    },
    {
      "cell_type": "markdown",
      "source": [
        "# Query and plots"
      ],
      "metadata": {
        "id": "Z7hbg1N3JsUO"
      }
    },
    {
      "cell_type": "code",
      "execution_count": 8,
      "metadata": {
        "colab": {
          "base_uri": "https://localhost:8080/",
          "height": 407
        },
        "id": "cQE5fNeVIqpV",
        "outputId": "88bdb882-82cb-4f40-fb3b-f248b3cad99a"
      },
      "outputs": [
        {
          "output_type": "error",
          "ename": "Forbidden",
          "evalue": "ignored",
          "traceback": [
            "\u001b[0;31m---------------------------------------------------------------------------\u001b[0m",
            "\u001b[0;31mForbidden\u001b[0m                                 Traceback (most recent call last)",
            "\u001b[0;32m<ipython-input-8-ddf02e425ae3>\u001b[0m in \u001b[0;36m<cell line: 108>\u001b[0;34m()\u001b[0m\n\u001b[1;32m    106\u001b[0m \u001b[0;34m\u001b[0m\u001b[0m\n\u001b[1;32m    107\u001b[0m \u001b[0mjob_config\u001b[0m \u001b[0;34m=\u001b[0m \u001b[0mbigquery\u001b[0m\u001b[0;34m.\u001b[0m\u001b[0mQueryJobConfig\u001b[0m\u001b[0;34m(\u001b[0m\u001b[0;34m)\u001b[0m\u001b[0;34m\u001b[0m\u001b[0;34m\u001b[0m\u001b[0m\n\u001b[0;32m--> 108\u001b[0;31m \u001b[0mdf\u001b[0m \u001b[0;34m=\u001b[0m \u001b[0mclient\u001b[0m\u001b[0;34m.\u001b[0m\u001b[0mquery\u001b[0m\u001b[0;34m(\u001b[0m\u001b[0mquery\u001b[0m\u001b[0;34m,\u001b[0m \u001b[0mjob_config\u001b[0m\u001b[0;34m=\u001b[0m\u001b[0mjob_config\u001b[0m\u001b[0;34m)\u001b[0m\u001b[0;34m.\u001b[0m\u001b[0mto_dataframe\u001b[0m\u001b[0;34m(\u001b[0m\u001b[0;34m)\u001b[0m\u001b[0;34m\u001b[0m\u001b[0;34m\u001b[0m\u001b[0m\n\u001b[0m",
            "\u001b[0;32m/usr/local/lib/python3.10/dist-packages/google/cloud/bigquery/client.py\u001b[0m in \u001b[0;36mquery\u001b[0;34m(self, query, job_config, job_id, job_id_prefix, location, project, retry, timeout, job_retry, api_method)\u001b[0m\n\u001b[1;32m   3409\u001b[0m             )\n\u001b[1;32m   3410\u001b[0m         \u001b[0;32melif\u001b[0m \u001b[0mapi_method\u001b[0m \u001b[0;34m==\u001b[0m \u001b[0menums\u001b[0m\u001b[0;34m.\u001b[0m\u001b[0mQueryApiMethod\u001b[0m\u001b[0;34m.\u001b[0m\u001b[0mINSERT\u001b[0m\u001b[0;34m:\u001b[0m\u001b[0;34m\u001b[0m\u001b[0;34m\u001b[0m\u001b[0m\n\u001b[0;32m-> 3411\u001b[0;31m             return _job_helpers.query_jobs_insert(\n\u001b[0m\u001b[1;32m   3412\u001b[0m                 \u001b[0mself\u001b[0m\u001b[0;34m,\u001b[0m\u001b[0;34m\u001b[0m\u001b[0;34m\u001b[0m\u001b[0m\n\u001b[1;32m   3413\u001b[0m                 \u001b[0mquery\u001b[0m\u001b[0;34m,\u001b[0m\u001b[0;34m\u001b[0m\u001b[0;34m\u001b[0m\u001b[0m\n",
            "\u001b[0;32m/usr/local/lib/python3.10/dist-packages/google/cloud/bigquery/_job_helpers.py\u001b[0m in \u001b[0;36mquery_jobs_insert\u001b[0;34m(client, query, job_config, job_id, job_id_prefix, location, project, retry, timeout, job_retry)\u001b[0m\n\u001b[1;32m    112\u001b[0m             \u001b[0;32mreturn\u001b[0m \u001b[0mquery_job\u001b[0m\u001b[0;34m\u001b[0m\u001b[0;34m\u001b[0m\u001b[0m\n\u001b[1;32m    113\u001b[0m \u001b[0;34m\u001b[0m\u001b[0m\n\u001b[0;32m--> 114\u001b[0;31m     \u001b[0mfuture\u001b[0m \u001b[0;34m=\u001b[0m \u001b[0mdo_query\u001b[0m\u001b[0;34m(\u001b[0m\u001b[0;34m)\u001b[0m\u001b[0;34m\u001b[0m\u001b[0;34m\u001b[0m\u001b[0m\n\u001b[0m\u001b[1;32m    115\u001b[0m     \u001b[0;31m# The future might be in a failed state now, but if it's\u001b[0m\u001b[0;34m\u001b[0m\u001b[0;34m\u001b[0m\u001b[0m\n\u001b[1;32m    116\u001b[0m     \u001b[0;31m# unrecoverable, we'll find out when we ask for it's result, at which\u001b[0m\u001b[0;34m\u001b[0m\u001b[0;34m\u001b[0m\u001b[0m\n",
            "\u001b[0;32m/usr/local/lib/python3.10/dist-packages/google/cloud/bigquery/_job_helpers.py\u001b[0m in \u001b[0;36mdo_query\u001b[0;34m()\u001b[0m\n\u001b[1;32m     89\u001b[0m \u001b[0;34m\u001b[0m\u001b[0m\n\u001b[1;32m     90\u001b[0m         \u001b[0;32mtry\u001b[0m\u001b[0;34m:\u001b[0m\u001b[0;34m\u001b[0m\u001b[0;34m\u001b[0m\u001b[0m\n\u001b[0;32m---> 91\u001b[0;31m             \u001b[0mquery_job\u001b[0m\u001b[0;34m.\u001b[0m\u001b[0m_begin\u001b[0m\u001b[0;34m(\u001b[0m\u001b[0mretry\u001b[0m\u001b[0;34m=\u001b[0m\u001b[0mretry\u001b[0m\u001b[0;34m,\u001b[0m \u001b[0mtimeout\u001b[0m\u001b[0;34m=\u001b[0m\u001b[0mtimeout\u001b[0m\u001b[0;34m)\u001b[0m\u001b[0;34m\u001b[0m\u001b[0;34m\u001b[0m\u001b[0m\n\u001b[0m\u001b[1;32m     92\u001b[0m         \u001b[0;32mexcept\u001b[0m \u001b[0mcore_exceptions\u001b[0m\u001b[0;34m.\u001b[0m\u001b[0mConflict\u001b[0m \u001b[0;32mas\u001b[0m \u001b[0mcreate_exc\u001b[0m\u001b[0;34m:\u001b[0m\u001b[0;34m\u001b[0m\u001b[0;34m\u001b[0m\u001b[0m\n\u001b[1;32m     93\u001b[0m             \u001b[0;31m# The thought is if someone is providing their own job IDs and they get\u001b[0m\u001b[0;34m\u001b[0m\u001b[0;34m\u001b[0m\u001b[0m\n",
            "\u001b[0;32m/usr/local/lib/python3.10/dist-packages/google/cloud/bigquery/job/query.py\u001b[0m in \u001b[0;36m_begin\u001b[0;34m(self, client, retry, timeout)\u001b[0m\n\u001b[1;32m   1369\u001b[0m \u001b[0;34m\u001b[0m\u001b[0m\n\u001b[1;32m   1370\u001b[0m         \u001b[0;32mtry\u001b[0m\u001b[0;34m:\u001b[0m\u001b[0;34m\u001b[0m\u001b[0;34m\u001b[0m\u001b[0m\n\u001b[0;32m-> 1371\u001b[0;31m             \u001b[0msuper\u001b[0m\u001b[0;34m(\u001b[0m\u001b[0mQueryJob\u001b[0m\u001b[0;34m,\u001b[0m \u001b[0mself\u001b[0m\u001b[0;34m)\u001b[0m\u001b[0;34m.\u001b[0m\u001b[0m_begin\u001b[0m\u001b[0;34m(\u001b[0m\u001b[0mclient\u001b[0m\u001b[0;34m=\u001b[0m\u001b[0mclient\u001b[0m\u001b[0;34m,\u001b[0m \u001b[0mretry\u001b[0m\u001b[0;34m=\u001b[0m\u001b[0mretry\u001b[0m\u001b[0;34m,\u001b[0m \u001b[0mtimeout\u001b[0m\u001b[0;34m=\u001b[0m\u001b[0mtimeout\u001b[0m\u001b[0;34m)\u001b[0m\u001b[0;34m\u001b[0m\u001b[0;34m\u001b[0m\u001b[0m\n\u001b[0m\u001b[1;32m   1372\u001b[0m         \u001b[0;32mexcept\u001b[0m \u001b[0mexceptions\u001b[0m\u001b[0;34m.\u001b[0m\u001b[0mGoogleAPICallError\u001b[0m \u001b[0;32mas\u001b[0m \u001b[0mexc\u001b[0m\u001b[0;34m:\u001b[0m\u001b[0;34m\u001b[0m\u001b[0;34m\u001b[0m\u001b[0m\n\u001b[1;32m   1373\u001b[0m             exc.message = _EXCEPTION_FOOTER_TEMPLATE.format(\n",
            "\u001b[0;32m/usr/local/lib/python3.10/dist-packages/google/cloud/bigquery/job/base.py\u001b[0m in \u001b[0;36m_begin\u001b[0;34m(self, client, retry, timeout)\u001b[0m\n\u001b[1;32m    691\u001b[0m         \u001b[0;31m# job has an ID.\u001b[0m\u001b[0;34m\u001b[0m\u001b[0;34m\u001b[0m\u001b[0m\n\u001b[1;32m    692\u001b[0m         \u001b[0mspan_attributes\u001b[0m \u001b[0;34m=\u001b[0m \u001b[0;34m{\u001b[0m\u001b[0;34m\"path\"\u001b[0m\u001b[0;34m:\u001b[0m \u001b[0mpath\u001b[0m\u001b[0;34m}\u001b[0m\u001b[0;34m\u001b[0m\u001b[0;34m\u001b[0m\u001b[0m\n\u001b[0;32m--> 693\u001b[0;31m         api_response = client._call_api(\n\u001b[0m\u001b[1;32m    694\u001b[0m             \u001b[0mretry\u001b[0m\u001b[0;34m,\u001b[0m\u001b[0;34m\u001b[0m\u001b[0;34m\u001b[0m\u001b[0m\n\u001b[1;32m    695\u001b[0m             \u001b[0mspan_name\u001b[0m\u001b[0;34m=\u001b[0m\u001b[0;34m\"BigQuery.job.begin\"\u001b[0m\u001b[0;34m,\u001b[0m\u001b[0;34m\u001b[0m\u001b[0;34m\u001b[0m\u001b[0m\n",
            "\u001b[0;32m/usr/local/lib/python3.10/dist-packages/google/cloud/bigquery/client.py\u001b[0m in \u001b[0;36m_call_api\u001b[0;34m(self, retry, span_name, span_attributes, job_ref, headers, **kwargs)\u001b[0m\n\u001b[1;32m    814\u001b[0m                 \u001b[0mname\u001b[0m\u001b[0;34m=\u001b[0m\u001b[0mspan_name\u001b[0m\u001b[0;34m,\u001b[0m \u001b[0mattributes\u001b[0m\u001b[0;34m=\u001b[0m\u001b[0mspan_attributes\u001b[0m\u001b[0;34m,\u001b[0m \u001b[0mclient\u001b[0m\u001b[0;34m=\u001b[0m\u001b[0mself\u001b[0m\u001b[0;34m,\u001b[0m \u001b[0mjob_ref\u001b[0m\u001b[0;34m=\u001b[0m\u001b[0mjob_ref\u001b[0m\u001b[0;34m\u001b[0m\u001b[0;34m\u001b[0m\u001b[0m\n\u001b[1;32m    815\u001b[0m             ):\n\u001b[0;32m--> 816\u001b[0;31m                 \u001b[0;32mreturn\u001b[0m \u001b[0mcall\u001b[0m\u001b[0;34m(\u001b[0m\u001b[0;34m)\u001b[0m\u001b[0;34m\u001b[0m\u001b[0;34m\u001b[0m\u001b[0m\n\u001b[0m\u001b[1;32m    817\u001b[0m \u001b[0;34m\u001b[0m\u001b[0m\n\u001b[1;32m    818\u001b[0m         \u001b[0;32mreturn\u001b[0m \u001b[0mcall\u001b[0m\u001b[0;34m(\u001b[0m\u001b[0;34m)\u001b[0m\u001b[0;34m\u001b[0m\u001b[0;34m\u001b[0m\u001b[0m\n",
            "\u001b[0;32m/usr/local/lib/python3.10/dist-packages/google/api_core/retry.py\u001b[0m in \u001b[0;36mretry_wrapped_func\u001b[0;34m(*args, **kwargs)\u001b[0m\n\u001b[1;32m    347\u001b[0m                 \u001b[0mself\u001b[0m\u001b[0;34m.\u001b[0m\u001b[0m_initial\u001b[0m\u001b[0;34m,\u001b[0m \u001b[0mself\u001b[0m\u001b[0;34m.\u001b[0m\u001b[0m_maximum\u001b[0m\u001b[0;34m,\u001b[0m \u001b[0mmultiplier\u001b[0m\u001b[0;34m=\u001b[0m\u001b[0mself\u001b[0m\u001b[0;34m.\u001b[0m\u001b[0m_multiplier\u001b[0m\u001b[0;34m\u001b[0m\u001b[0;34m\u001b[0m\u001b[0m\n\u001b[1;32m    348\u001b[0m             )\n\u001b[0;32m--> 349\u001b[0;31m             return retry_target(\n\u001b[0m\u001b[1;32m    350\u001b[0m                 \u001b[0mtarget\u001b[0m\u001b[0;34m,\u001b[0m\u001b[0;34m\u001b[0m\u001b[0;34m\u001b[0m\u001b[0m\n\u001b[1;32m    351\u001b[0m                 \u001b[0mself\u001b[0m\u001b[0;34m.\u001b[0m\u001b[0m_predicate\u001b[0m\u001b[0;34m,\u001b[0m\u001b[0;34m\u001b[0m\u001b[0;34m\u001b[0m\u001b[0m\n",
            "\u001b[0;32m/usr/local/lib/python3.10/dist-packages/google/api_core/retry.py\u001b[0m in \u001b[0;36mretry_target\u001b[0;34m(target, predicate, sleep_generator, timeout, on_error, **kwargs)\u001b[0m\n\u001b[1;32m    189\u001b[0m     \u001b[0;32mfor\u001b[0m \u001b[0msleep\u001b[0m \u001b[0;32min\u001b[0m \u001b[0msleep_generator\u001b[0m\u001b[0;34m:\u001b[0m\u001b[0;34m\u001b[0m\u001b[0;34m\u001b[0m\u001b[0m\n\u001b[1;32m    190\u001b[0m         \u001b[0;32mtry\u001b[0m\u001b[0;34m:\u001b[0m\u001b[0;34m\u001b[0m\u001b[0;34m\u001b[0m\u001b[0m\n\u001b[0;32m--> 191\u001b[0;31m             \u001b[0;32mreturn\u001b[0m \u001b[0mtarget\u001b[0m\u001b[0;34m(\u001b[0m\u001b[0;34m)\u001b[0m\u001b[0;34m\u001b[0m\u001b[0;34m\u001b[0m\u001b[0m\n\u001b[0m\u001b[1;32m    192\u001b[0m \u001b[0;34m\u001b[0m\u001b[0m\n\u001b[1;32m    193\u001b[0m         \u001b[0;31m# pylint: disable=broad-except\u001b[0m\u001b[0;34m\u001b[0m\u001b[0;34m\u001b[0m\u001b[0m\n",
            "\u001b[0;32m/usr/local/lib/python3.10/dist-packages/google/cloud/_http/__init__.py\u001b[0m in \u001b[0;36mapi_request\u001b[0;34m(self, method, path, query_params, data, content_type, headers, api_base_url, api_version, expect_json, _target_object, timeout, extra_api_info)\u001b[0m\n\u001b[1;32m    492\u001b[0m \u001b[0;34m\u001b[0m\u001b[0m\n\u001b[1;32m    493\u001b[0m         \u001b[0;32mif\u001b[0m \u001b[0;32mnot\u001b[0m \u001b[0;36m200\u001b[0m \u001b[0;34m<=\u001b[0m \u001b[0mresponse\u001b[0m\u001b[0;34m.\u001b[0m\u001b[0mstatus_code\u001b[0m \u001b[0;34m<\u001b[0m \u001b[0;36m300\u001b[0m\u001b[0;34m:\u001b[0m\u001b[0;34m\u001b[0m\u001b[0;34m\u001b[0m\u001b[0m\n\u001b[0;32m--> 494\u001b[0;31m             \u001b[0;32mraise\u001b[0m \u001b[0mexceptions\u001b[0m\u001b[0;34m.\u001b[0m\u001b[0mfrom_http_response\u001b[0m\u001b[0;34m(\u001b[0m\u001b[0mresponse\u001b[0m\u001b[0;34m)\u001b[0m\u001b[0;34m\u001b[0m\u001b[0;34m\u001b[0m\u001b[0m\n\u001b[0m\u001b[1;32m    495\u001b[0m \u001b[0;34m\u001b[0m\u001b[0m\n\u001b[1;32m    496\u001b[0m         \u001b[0;32mif\u001b[0m \u001b[0mexpect_json\u001b[0m \u001b[0;32mand\u001b[0m \u001b[0mresponse\u001b[0m\u001b[0;34m.\u001b[0m\u001b[0mcontent\u001b[0m\u001b[0;34m:\u001b[0m\u001b[0;34m\u001b[0m\u001b[0;34m\u001b[0m\u001b[0m\n",
            "\u001b[0;31mForbidden\u001b[0m: 403 POST https://bigquery.googleapis.com/bigquery/v2/projects/bwh-at-ncigt-data-m-1641244486/jobs?prettyPrint=false: Access Denied: Project bwh-at-ncigt-data-m-1641244486: User does not have bigquery.jobs.create permission in project bwh-at-ncigt-data-m-1641244486.\n\nLocation: None\nJob ID: 083ffa74-9f42-452a-904a-7aa90c4cdf41\n"
          ]
        }
      ],
      "source": [
        "client = bigquery.Client(project=project_name)\n",
        "\n",
        "query = f\"\"\"\n",
        "-- Find the studies with T2, DWI and ADC\n",
        "-- To do:\n",
        "  -- Need to start with patients that have both preop and intraop ...\n",
        "  -- Array_agg instead of string_agg for ease of viewing\n",
        "  -- Use regexp instead of LIKE operator\n",
        "  -- Include OHIF links to each study\n",
        "  -- Refine rules/simplify for DWI and ADC, examine these separately\n",
        "  -- Add DCE\n",
        "-- To think about:\n",
        "  -- How to choose the \"best\" T2/DWI/ADC sequence out of the list\n",
        "----------------------------------------------------------------------\n",
        "\n",
        "-- Get the distinct studyUIDs, and the possible SeriesDescriptions\n",
        "-- for t2 and ax\n",
        "WITH select_T2_axial_studies AS(\n",
        "\n",
        "  SELECT\n",
        "    DISTINCT(StudyInstanceUID) as StudyInstanceUID,\n",
        "    STRING_AGG(DISTINCT(SeriesDescription)) as SeriesDescription_T2_AX,\n",
        "    COUNT(DISTINCT(SeriesDescription)) as num_t2_ax_series\n",
        "  FROM\n",
        "    `bwh-at-ncigt-data-m-1641244486.mgb_cre3_irb2020p003809.dicom_metadata_March2023`\n",
        "  WHERE\n",
        "    LOWER(SeriesDescription) LIKE \"%t2%\" AND\n",
        "    LOWER(SeriesDescription) LIKE \"%ax%\" AND\n",
        "    LOWER(SeriesDescription) NOT LIKE \"%diff%\" AND\n",
        "    LOWER(SeriesDescription) NOT LIKE \"%guidance%\" AND\n",
        "    LOWER(SeriesDescription) NOT LIKE \"%guidence%\" AND\n",
        "    LOWER(SeriesDescription) NOT LIKE \"%template%\"\n",
        "  GROUP BY\n",
        "    StudyInstanceUID\n",
        "  ORDER BY\n",
        "    num_t2_ax_series DESC\n",
        "\n",
        "),\n",
        "\n",
        "-- Select the DWI series that also have T2\n",
        "-- Make sure \"apparent\" or \"coefficient\" are not in the names for the DWI sequences\n",
        "select_DWI_studies AS(\n",
        "  SELECT\n",
        "    DISTINCT(select_T2_axial_studies.StudyInstanceUID),\n",
        "    select_T2_axial_studies.SeriesDescription_T2_AX,\n",
        "    select_T2_axial_studies.num_t2_ax_series,\n",
        "    STRING_AGG(DISTINCT(dicom_metadata.SeriesDescription)) as SeriesDescription_DWI,\n",
        "    COUNT(DISTINCT(dicom_metadata.SeriesDescription)) as num_dwi_series\n",
        "  FROM\n",
        "    select_T2_axial_studies\n",
        "  JOIN\n",
        "    `bwh-at-ncigt-data-m-1641244486.mgb_cre3_irb2020p003809.dicom_metadata_March2023` AS dicom_metadata\n",
        "  ON\n",
        "    select_T2_axial_studies.StudyInstanceUID = dicom_metadata.StudyInstanceUID\n",
        "  WHERE\n",
        "    (LOWER(dicom_metadata.SeriesDescription) LIKE \"%dwi%\" AND\n",
        "    LOWER(dicom_metadata.SeriesDescription) NOT LIKE \"%apparent%\" AND\n",
        "    LOWER(dicom_metadata.SeriesDescription) NOT LIKE \"%adc%\" AND\n",
        "    UPPER(dicom_metadata.SeriesDescription) NOT LIKE \"%ADC%\" AND\n",
        "    LOWER(dicom_metadata.SeriesDescription) NOT LIKE \"%trace%\" AND\n",
        "    UPPER(dicom_metadata.SeriesDescription) NOT LIKE \"%TRACE%\")\n",
        "    OR\n",
        "    (LOWER(dicom_metadata.SeriesDescription) LIKE \"%diffusion%\" AND\n",
        "    LOWER(dicom_metadata.SeriesDescription) NOT LIKE \"%apparent%\" AND\n",
        "    LOWER(dicom_metadata.SeriesDescription) NOT LIKE \"%adc%\" AND\n",
        "    UPPER(dicom_metadata.SeriesDescription) NOT LIKE \"%ADC%\" AND\n",
        "    LOWER(dicom_metadata.SeriesDescription) NOT LIKE \"%trace%\" AND\n",
        "    UPPER(dicom_metadata.SeriesDescription) NOT LIKE \"%TRACE%\")\n",
        "  GROUP BY\n",
        "    select_T2_axial_studies.StudyInstanceUID,\n",
        "    select_T2_axial_studies.SeriesDescription_T2_AX,\n",
        "    select_T2_axial_studies.num_t2_ax_series\n",
        ")\n",
        "\n",
        "-- Select the ADC series that also have T2 and DWI\n",
        "SELECT\n",
        "  DISTINCT(select_DWI_studies.StudyInstanceUID),\n",
        "  select_DWI_studies.SeriesDescription_T2_AX,\n",
        "  select_DWI_studies.num_t2_ax_series,\n",
        "  select_DWI_studies.SeriesDescription_DWI,\n",
        "  select_DWI_studies.num_dwi_series,\n",
        "  STRING_AGG(DISTINCT(dicom_metadata.SeriesDescription)) as SeriesDescription_ADC,\n",
        "  COUNT(DISTINCT(dicom_metadata.SeriesDescription)) as num_adc_series,\n",
        "  ANY_VALUE(CONCAT(\"https://idc-tester-dk.web.app/projects/bwh-at-ncigt-data-m-1641244486/locations/us-central1/datasets/mgb-cre3-irb2020p003809/dicomStores/dicom-March2023/study/\", select_DWI_studies.StudyInstanceUID)) as viewer_url\n",
        "FROM\n",
        "  select_DWI_studies\n",
        "JOIN\n",
        "  `bwh-at-ncigt-data-m-1641244486.mgb_cre3_irb2020p003809.dicom_metadata_March2023` AS dicom_metadata\n",
        "ON\n",
        "  select_DWI_studies.StudyInstanceUID = dicom_metadata.StudyInstanceUID\n",
        "WHERE\n",
        "  ((LOWER(dicom_metadata.SeriesDescription) LIKE \"%apparent%\" AND LOWER(dicom_metadata.SeriesDescription) LIKE \"%coefficient%\") OR\n",
        "  LOWER(dicom_metadata.SeriesDescription) LIKE \"%adc\" OR\n",
        "  UPPER(dicom_metadata.SeriesDescription) LIKE \"%ADC%\") # AND\n",
        "  # num_t2_ax_series > 1\n",
        "GROUP BY\n",
        "  select_DWI_studies.StudyInstanceUID,\n",
        "  select_DWI_studies.SeriesDescription_T2_AX,\n",
        "  select_DWI_studies.num_t2_ax_series,\n",
        "  select_DWI_studies.SeriesDescription_DWI,\n",
        "  select_DWI_studies.num_dwi_series\n",
        "ORDER BY\n",
        "  select_DWI_studies.num_t2_ax_series DESC;\n",
        "  \"\"\"\n",
        "\n",
        "\n",
        "job_config = bigquery.QueryJobConfig()\n",
        "df = client.query(query, job_config=job_config).to_dataframe()"
      ]
    },
    {
      "cell_type": "code",
      "source": [],
      "metadata": {
        "id": "FyjB1FdIKE0e"
      },
      "execution_count": null,
      "outputs": []
    }
  ]
}